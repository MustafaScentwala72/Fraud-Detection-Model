{
 "cells": [
  {
   "cell_type": "code",
   "execution_count": 1,
   "id": "073e3d00",
   "metadata": {},
   "outputs": [],
   "source": [
    "import pandas as pd\n",
    "import numpy as np\n",
    "from sklearn.preprocessing import LabelEncoder, OneHotEncoder\n",
    "from sklearn.preprocessing import StandardScaler\n",
    "from sklearn.model_selection import train_test_split\n",
    "from sklearn.metrics import confusion_matrix\n",
    "from sklearn.metrics import classification_report\n",
    "from imblearn.over_sampling import SMOTE\n",
    "import matplotlib.pyplot as plt\n",
    "import seaborn as sns\n",
    "from sklearn.metrics import accuracy_score"
   ]
  },
  {
   "cell_type": "markdown",
   "id": "b1b91bca",
   "metadata": {},
   "source": [
    "# EDA"
   ]
  },
  {
   "cell_type": "code",
   "execution_count": 2,
   "id": "8af34bfe",
   "metadata": {},
   "outputs": [
    {
     "data": {
      "text/html": [
       "<div>\n",
       "<style scoped>\n",
       "    .dataframe tbody tr th:only-of-type {\n",
       "        vertical-align: middle;\n",
       "    }\n",
       "\n",
       "    .dataframe tbody tr th {\n",
       "        vertical-align: top;\n",
       "    }\n",
       "\n",
       "    .dataframe thead th {\n",
       "        text-align: right;\n",
       "    }\n",
       "</style>\n",
       "<table border=\"1\" class=\"dataframe\">\n",
       "  <thead>\n",
       "    <tr style=\"text-align: right;\">\n",
       "      <th></th>\n",
       "      <th>step</th>\n",
       "      <th>customer</th>\n",
       "      <th>age</th>\n",
       "      <th>gender</th>\n",
       "      <th>zipcodeOri</th>\n",
       "      <th>merchant</th>\n",
       "      <th>zipMerchant</th>\n",
       "      <th>category</th>\n",
       "      <th>amount</th>\n",
       "      <th>fraud</th>\n",
       "    </tr>\n",
       "  </thead>\n",
       "  <tbody>\n",
       "    <tr>\n",
       "      <th>0</th>\n",
       "      <td>0</td>\n",
       "      <td>'C1093826151'</td>\n",
       "      <td>'4'</td>\n",
       "      <td>'M'</td>\n",
       "      <td>'28007'</td>\n",
       "      <td>'M348934600'</td>\n",
       "      <td>'28007'</td>\n",
       "      <td>'es_transportation'</td>\n",
       "      <td>4.55</td>\n",
       "      <td>0</td>\n",
       "    </tr>\n",
       "    <tr>\n",
       "      <th>1</th>\n",
       "      <td>0</td>\n",
       "      <td>'C352968107'</td>\n",
       "      <td>'2'</td>\n",
       "      <td>'M'</td>\n",
       "      <td>'28007'</td>\n",
       "      <td>'M348934600'</td>\n",
       "      <td>'28007'</td>\n",
       "      <td>'es_transportation'</td>\n",
       "      <td>39.68</td>\n",
       "      <td>0</td>\n",
       "    </tr>\n",
       "    <tr>\n",
       "      <th>2</th>\n",
       "      <td>0</td>\n",
       "      <td>'C2054744914'</td>\n",
       "      <td>'4'</td>\n",
       "      <td>'F'</td>\n",
       "      <td>'28007'</td>\n",
       "      <td>'M1823072687'</td>\n",
       "      <td>'28007'</td>\n",
       "      <td>'es_transportation'</td>\n",
       "      <td>26.89</td>\n",
       "      <td>0</td>\n",
       "    </tr>\n",
       "    <tr>\n",
       "      <th>3</th>\n",
       "      <td>0</td>\n",
       "      <td>'C1760612790'</td>\n",
       "      <td>'3'</td>\n",
       "      <td>'M'</td>\n",
       "      <td>'28007'</td>\n",
       "      <td>'M348934600'</td>\n",
       "      <td>'28007'</td>\n",
       "      <td>'es_transportation'</td>\n",
       "      <td>17.25</td>\n",
       "      <td>0</td>\n",
       "    </tr>\n",
       "    <tr>\n",
       "      <th>4</th>\n",
       "      <td>0</td>\n",
       "      <td>'C757503768'</td>\n",
       "      <td>'5'</td>\n",
       "      <td>'M'</td>\n",
       "      <td>'28007'</td>\n",
       "      <td>'M348934600'</td>\n",
       "      <td>'28007'</td>\n",
       "      <td>'es_transportation'</td>\n",
       "      <td>35.72</td>\n",
       "      <td>0</td>\n",
       "    </tr>\n",
       "  </tbody>\n",
       "</table>\n",
       "</div>"
      ],
      "text/plain": [
       "   step       customer  age gender zipcodeOri       merchant zipMerchant  \\\n",
       "0     0  'C1093826151'  '4'    'M'    '28007'   'M348934600'     '28007'   \n",
       "1     0   'C352968107'  '2'    'M'    '28007'   'M348934600'     '28007'   \n",
       "2     0  'C2054744914'  '4'    'F'    '28007'  'M1823072687'     '28007'   \n",
       "3     0  'C1760612790'  '3'    'M'    '28007'   'M348934600'     '28007'   \n",
       "4     0   'C757503768'  '5'    'M'    '28007'   'M348934600'     '28007'   \n",
       "\n",
       "              category  amount  fraud  \n",
       "0  'es_transportation'    4.55      0  \n",
       "1  'es_transportation'   39.68      0  \n",
       "2  'es_transportation'   26.89      0  \n",
       "3  'es_transportation'   17.25      0  \n",
       "4  'es_transportation'   35.72      0  "
      ]
     },
     "execution_count": 2,
     "metadata": {},
     "output_type": "execute_result"
    }
   ],
   "source": [
    "df3 = pd.read_csv('bs140513_032310.csv')\n",
    "df3.head()"
   ]
  },
  {
   "cell_type": "code",
   "execution_count": 3,
   "id": "2ef3053c",
   "metadata": {},
   "outputs": [
    {
     "name": "stdout",
     "output_type": "stream",
     "text": [
      "<class 'pandas.core.frame.DataFrame'>\n",
      "RangeIndex: 594643 entries, 0 to 594642\n",
      "Data columns (total 10 columns):\n",
      " #   Column       Non-Null Count   Dtype  \n",
      "---  ------       --------------   -----  \n",
      " 0   step         594643 non-null  int64  \n",
      " 1   customer     594643 non-null  object \n",
      " 2   age          594643 non-null  object \n",
      " 3   gender       594643 non-null  object \n",
      " 4   zipcodeOri   594643 non-null  object \n",
      " 5   merchant     594643 non-null  object \n",
      " 6   zipMerchant  594643 non-null  object \n",
      " 7   category     594643 non-null  object \n",
      " 8   amount       594643 non-null  float64\n",
      " 9   fraud        594643 non-null  int64  \n",
      "dtypes: float64(1), int64(2), object(7)\n",
      "memory usage: 45.4+ MB\n"
     ]
    }
   ],
   "source": [
    "df3.info()"
   ]
  },
  {
   "cell_type": "code",
   "execution_count": 4,
   "id": "5d5acf3f",
   "metadata": {},
   "outputs": [
    {
     "data": {
      "text/html": [
       "<div>\n",
       "<style scoped>\n",
       "    .dataframe tbody tr th:only-of-type {\n",
       "        vertical-align: middle;\n",
       "    }\n",
       "\n",
       "    .dataframe tbody tr th {\n",
       "        vertical-align: top;\n",
       "    }\n",
       "\n",
       "    .dataframe thead th {\n",
       "        text-align: right;\n",
       "    }\n",
       "</style>\n",
       "<table border=\"1\" class=\"dataframe\">\n",
       "  <thead>\n",
       "    <tr style=\"text-align: right;\">\n",
       "      <th></th>\n",
       "      <th>step</th>\n",
       "      <th>amount</th>\n",
       "      <th>fraud</th>\n",
       "    </tr>\n",
       "  </thead>\n",
       "  <tbody>\n",
       "    <tr>\n",
       "      <th>count</th>\n",
       "      <td>594643.000000</td>\n",
       "      <td>594643.000000</td>\n",
       "      <td>594643.000000</td>\n",
       "    </tr>\n",
       "    <tr>\n",
       "      <th>mean</th>\n",
       "      <td>94.986827</td>\n",
       "      <td>37.890135</td>\n",
       "      <td>0.012108</td>\n",
       "    </tr>\n",
       "    <tr>\n",
       "      <th>std</th>\n",
       "      <td>51.053632</td>\n",
       "      <td>111.402831</td>\n",
       "      <td>0.109369</td>\n",
       "    </tr>\n",
       "    <tr>\n",
       "      <th>min</th>\n",
       "      <td>0.000000</td>\n",
       "      <td>0.000000</td>\n",
       "      <td>0.000000</td>\n",
       "    </tr>\n",
       "    <tr>\n",
       "      <th>25%</th>\n",
       "      <td>52.000000</td>\n",
       "      <td>13.740000</td>\n",
       "      <td>0.000000</td>\n",
       "    </tr>\n",
       "    <tr>\n",
       "      <th>50%</th>\n",
       "      <td>97.000000</td>\n",
       "      <td>26.900000</td>\n",
       "      <td>0.000000</td>\n",
       "    </tr>\n",
       "    <tr>\n",
       "      <th>75%</th>\n",
       "      <td>139.000000</td>\n",
       "      <td>42.540000</td>\n",
       "      <td>0.000000</td>\n",
       "    </tr>\n",
       "    <tr>\n",
       "      <th>max</th>\n",
       "      <td>179.000000</td>\n",
       "      <td>8329.960000</td>\n",
       "      <td>1.000000</td>\n",
       "    </tr>\n",
       "  </tbody>\n",
       "</table>\n",
       "</div>"
      ],
      "text/plain": [
       "                step         amount          fraud\n",
       "count  594643.000000  594643.000000  594643.000000\n",
       "mean       94.986827      37.890135       0.012108\n",
       "std        51.053632     111.402831       0.109369\n",
       "min         0.000000       0.000000       0.000000\n",
       "25%        52.000000      13.740000       0.000000\n",
       "50%        97.000000      26.900000       0.000000\n",
       "75%       139.000000      42.540000       0.000000\n",
       "max       179.000000    8329.960000       1.000000"
      ]
     },
     "execution_count": 4,
     "metadata": {},
     "output_type": "execute_result"
    }
   ],
   "source": [
    "df3.describe()"
   ]
  },
  {
   "cell_type": "code",
   "execution_count": 5,
   "id": "36a0529a",
   "metadata": {},
   "outputs": [
    {
     "data": {
      "text/plain": [
       "step           0\n",
       "customer       0\n",
       "age            0\n",
       "gender         0\n",
       "zipcodeOri     0\n",
       "merchant       0\n",
       "zipMerchant    0\n",
       "category       0\n",
       "amount         0\n",
       "fraud          0\n",
       "dtype: int64"
      ]
     },
     "execution_count": 5,
     "metadata": {},
     "output_type": "execute_result"
    }
   ],
   "source": [
    "# Checking for missing values\n",
    "df3.isnull().sum()"
   ]
  },
  {
   "cell_type": "code",
   "execution_count": 6,
   "id": "ad41938b",
   "metadata": {},
   "outputs": [
    {
     "name": "stdout",
     "output_type": "stream",
     "text": [
      "\n",
      "Fraudulent vs Genuine Transactions:\n",
      "0    587443\n",
      "1      7200\n",
      "Name: fraud, dtype: int64\n"
     ]
    },
    {
     "data": {
      "image/png": "[encoded data removed]",
      "text/plain": [
       "<Figure size 640x480 with 1 Axes>"
      ]
     },
     "metadata": {},
     "output_type": "display_data"
    }
   ],
   "source": [
    "# Checking the distribution of the target variable\n",
    "print(\"\\nFraudulent vs Genuine Transactions:\")\n",
    "print(df3['fraud'].value_counts())\n",
    "\n",
    "# Plot 1: Fraud Distribution\n",
    "plt.figure()\n",
    "sns.countplot(x='fraud', data=df3, palette='Set2')\n",
    "plt.title('Fraud Distribution')\n",
    "plt.show()"
   ]
  },
  {
   "cell_type": "markdown",
   "id": "67323085",
   "metadata": {},
   "source": [
    "This graph and the distribution of the target variable indicates that there is an imbalance in the dataset. To deal with this imbalance, sampling techniques such as SMOTE and oversampling required."
   ]
  },
  {
   "cell_type": "markdown",
   "id": "98d96e28",
   "metadata": {},
   "source": [
    "# Splitting the Dataset"
   ]
  },
  {
   "cell_type": "code",
   "execution_count": 7,
   "id": "701342b3",
   "metadata": {},
   "outputs": [],
   "source": [
    "# Splitting the dataset\n",
    "X = df3.drop('fraud', axis=1)\n",
    "y = df3['fraud']\n",
    "\n",
    "# Dropping the unnecessary columns\n",
    "X = X.drop(['zipcodeOri', 'zipMerchant'], axis=1)\n",
    "\n",
    "# Calculating the size of the validation set as a fraction of the total dataset size\n",
    "validation_size = (594643 - 500000) / 594643\n",
    "\n",
    "# Spliting the data into training and validation sets\n",
    "X_train_val, X_validation, y_train_val, y_validation = train_test_split(X, y, test_size=validation_size, random_state=42)\n",
    "\n",
    "# Defining the test size as a fraction of the training set\n",
    "test_size_fraction = 100000 / 500000\n",
    "\n",
    "# Further splitting the training set into training and test sets for model evaluation\n",
    "X_train, X_test, y_train, y_test = train_test_split(X_train_val, y_train_val, test_size=test_size_fraction, random_state=42)"
   ]
  },
  {
   "cell_type": "markdown",
   "id": "3ebb0a96",
   "metadata": {},
   "source": [
    "The dataset is divided into two sections: `'features' (X)` and `'target' (y)`, with `'features'` serving as input variables and `'target'` indicating fraud. Columns `'zipcodeOri'` and `'zipMerchant'` are removed because they are unrelated to fraud prediction. The data is split into two sets: a training-validation set (500,000 rows) and a validation set (the remaining rows). For model creation and performance evaluation, the training validation set is further divided into a training set and a test set."
   ]
  },
  {
   "cell_type": "code",
   "execution_count": 8,
   "id": "4ce68e34",
   "metadata": {},
   "outputs": [
    {
     "name": "stdout",
     "output_type": "stream",
     "text": [
      "Training set features shape: (400000, 7)\n",
      "Training set target shape: (400000,)\n",
      "Testing set features shape: (100000, 7)\n",
      "Testing set target shape: (100000,)\n",
      "Validation set features shape: (94643, 7)\n",
      "Validation set target shape: (94643,)\n"
     ]
    }
   ],
   "source": [
    "# Printing the shapes of the datasets to check if the split is done properly or not.\n",
    "print(f\"Training set features shape: {X_train.shape}\")\n",
    "print(f\"Training set target shape: {y_train.shape}\")\n",
    "print(f\"Testing set features shape: {X_test.shape}\")\n",
    "print(f\"Testing set target shape: {y_test.shape}\")\n",
    "print(f\"Validation set features shape: {X_validation.shape}\")\n",
    "print(f\"Validation set target shape: {y_validation.shape}\")"
   ]
  },
  {
   "cell_type": "markdown",
   "id": "a3a83fe8",
   "metadata": {},
   "source": [
    "# Applying Label and One-hot Encoding"
   ]
  },
  {
   "cell_type": "code",
   "execution_count": 9,
   "id": "c37e3367",
   "metadata": {},
   "outputs": [],
   "source": [
    "# Initializing the LabelEncoder\n",
    "label_encoder = LabelEncoder()\n",
    "\n",
    "# Applying Label Encoding on 'customer' and 'merchant'\n",
    "X_train['customer'] = label_encoder.fit_transform(X_train['customer'])\n",
    "X_test['customer'] = label_encoder.transform(X_test['customer'])\n",
    "X_validation['customer'] = label_encoder.transform(X_validation['customer'])\n",
    "\n",
    "X_train['merchant'] = label_encoder.fit_transform(X_train['merchant'])\n",
    "X_test['merchant'] = label_encoder.transform(X_test['merchant'])\n",
    "X_validation['merchant'] = label_encoder.transform(X_validation['merchant'])\n",
    " \n",
    "# Applying one-hot encoding on 'age', 'gender', and 'category'\n",
    "one_hot_encoded_columns = pd.get_dummies(X_train[['age', 'gender', 'category']], drop_first=True)\n",
    "\n",
    "# Dropping 'age', 'gender', 'category' as they are now encoded\n",
    "X_train = X_train.drop(['age', 'gender', 'category'], axis=1)\n",
    "\n",
    "# Joining the encoded df\n",
    "X_train = X_train.join(one_hot_encoded_columns)\n",
    "\n",
    "# Applying the same transformation to the test and validation sets\n",
    "X_test = X_test.join(pd.get_dummies(X_test[['age', 'gender', 'category']], drop_first=True))\n",
    "X_validation = X_validation.join(pd.get_dummies(X_validation[['age', 'gender', 'category']], drop_first=True))\n",
    "\n",
    "# Dropping the original 'age', 'gender', 'category' columns from test and validation sets as they are now encoded\n",
    "X_test = X_test.drop(['age', 'gender', 'category'], axis=1)\n",
    "X_validation = X_validation.drop(['age', 'gender', 'category'], axis=1)"
   ]
  },
  {
   "cell_type": "markdown",
   "id": "d04e7e10",
   "metadata": {},
   "source": [
    "`Label encoding` is appropriate for columns with a large number of unique categories. Hence, using `label encoding` for 'customer' and 'merchant'.\n",
    "\n",
    "`One-hot encoding` is appropriate for columns with a small number of unique categories and where the order of the categories is not important. Hence, using `one-hot encoding` for 'age,' 'gender,' and 'category'."
   ]
  },
  {
   "cell_type": "markdown",
   "id": "50b8d0ab",
   "metadata": {},
   "source": [
    "# Over-sampling the Training Data"
   ]
  },
  {
   "cell_type": "code",
   "execution_count": 10,
   "id": "2932b8ba",
   "metadata": {},
   "outputs": [
    {
     "name": "stdout",
     "output_type": "stream",
     "text": [
      "After over-sampling with SMOTE:\n",
      "Number of non-fraud cases (0): 395134\n",
      "Number of fraud cases (1): 395134\n"
     ]
    }
   ],
   "source": [
    "# Initializing SMOTE\n",
    "smote = SMOTE(random_state=42)\n",
    "\n",
    "# Fitting SMOTE to the training data\n",
    "X_train_resampled, y_train_resampled = smote.fit_resample(X_train, y_train)\n",
    "\n",
    "# Printing the number of samples in each class after over-sampling\n",
    "print(\"After over-sampling with SMOTE:\")\n",
    "print(\"Number of non-fraud cases (0):\", sum(y_train_resampled == 0))\n",
    "print(\"Number of fraud cases (1):\", sum(y_train_resampled == 1))"
   ]
  },
  {
   "cell_type": "markdown",
   "id": "cfc05a15",
   "metadata": {},
   "source": [
    "Using SMOTE to equalise the amount of fraud and non-fraud cases by over-sampling the training set."
   ]
  },
  {
   "cell_type": "markdown",
   "id": "f51c7d39",
   "metadata": {},
   "source": [
    "# Model Evaluation"
   ]
  },
  {
   "cell_type": "markdown",
   "id": "641788eb",
   "metadata": {},
   "source": [
    "## Model 1: Logistic Regression"
   ]
  },
  {
   "cell_type": "code",
   "execution_count": 11,
   "id": "dc13a416",
   "metadata": {},
   "outputs": [
    {
     "name": "stderr",
     "output_type": "stream",
     "text": [
      "C:\\Users\\musta\\anaconda3\\Lib\\site-packages\\sklearn\\linear_model\\_logistic.py:460: ConvergenceWarning: lbfgs failed to converge (status=1):\n",
      "STOP: TOTAL NO. of ITERATIONS REACHED LIMIT.\n",
      "\n",
      "Increase the number of iterations (max_iter) or scale the data as shown in:\n",
      "    https://scikit-learn.org/stable/modules/preprocessing.html\n",
      "Please also refer to the documentation for alternative solver options:\n",
      "    https://scikit-learn.org/stable/modules/linear_model.html#logistic-regression\n",
      "  n_iter_i = _check_optimize_result(\n"
     ]
    },
    {
     "name": "stdout",
     "output_type": "stream",
     "text": [
      "Logistic Regression Classification Report:\n",
      "              precision    recall  f1-score   support\n",
      "\n",
      "           0       1.00      0.98      0.99     98794\n",
      "           1       0.39      0.79      0.52      1206\n",
      "\n",
      "    accuracy                           0.98    100000\n",
      "   macro avg       0.69      0.89      0.76    100000\n",
      "weighted avg       0.99      0.98      0.99    100000\n",
      "\n"
     ]
    },
    {
     "data": {
      "image/png": "[encoded data removed]",
      "text/plain": [
       "<Figure size 640x480 with 2 Axes>"
      ]
     },
     "metadata": {},
     "output_type": "display_data"
    }
   ],
   "source": [
    "from sklearn.linear_model import LogisticRegression\n",
    "\n",
    "# Initializing the Logistic Regression model\n",
    "logistic_regression_model = LogisticRegression(max_iter=1000, random_state=42)\n",
    "\n",
    "# Training the Logistic Regression model on the resampled (over-sampled) training data\n",
    "logistic_regression_model.fit(X_train_resampled, y_train_resampled)\n",
    "\n",
    "# Predicting on the original, not resampled test set\n",
    "logistic_regression_predictions = logistic_regression_model.predict(X_test)\n",
    "\n",
    "# Evaluating the Logistic Regression model\n",
    "print(\"Logistic Regression Classification Report:\")\n",
    "print(classification_report(y_test, logistic_regression_predictions))\n",
    "\n",
    "cm_lr = confusion_matrix(y_test, logistic_regression_predictions)\n",
    "\n",
    "# Plotting the confusion matrix\n",
    "sns.heatmap(cm_lr, annot=True, fmt='d', xticklabels=['Non-Fraud', 'Fraud'], yticklabels=['Non-Fraud', 'Fraud'])\n",
    "plt.ylabel('Actual')\n",
    "plt.xlabel('Predicted')\n",
    "plt.title('Confusion Matrix')\n",
    "plt.show()"
   ]
  },
  {
   "cell_type": "markdown",
   "id": "c6b42156",
   "metadata": {},
   "source": [
    "The Logistic Regression model is accurate in recognizing non-fraud transactions, with precision nearing 100% and recall nearing 98%, resulting in an f1-score of 0.99. However, while fraud detection has a high recall of 79%, it has a low precision of 39%, resulting in a high number of false positives. This is reflected in the f1-score of 0.52 for fraud cases. This shows that the model faces difficulty in differentiating between legitimate and fraudulent transactions. Despite a high overall accuracy of 98%, the effectiveness of fraud detection requires improvement.\n",
    "\n",
    "Confusion matrix:\n",
    "\n",
    "(a) `97,295 True Negatives` - Successfully identified non-fraudulent transactions.\n",
    "\n",
    "(b) `1,499 False Positives` - Non-fraudulent transactions incorrectly identified as fraudulent.\n",
    "\n",
    "(c) `254 False Negatives` - Fraudulent transactions incorrectly identified as non-fraudulent.\n",
    "\n",
    "(d) `952 True Positives` - Successfully identified fraudulent transactions.\n",
    "\n",
    "These results suggest that the model is not practical to use in a real-world banking system."
   ]
  },
  {
   "cell_type": "markdown",
   "id": "29b7f638",
   "metadata": {},
   "source": [
    "## Model 2: Decision Tree"
   ]
  },
  {
   "cell_type": "code",
   "execution_count": 12,
   "id": "da55f1e4",
   "metadata": {},
   "outputs": [
    {
     "name": "stdout",
     "output_type": "stream",
     "text": [
      "Decision Tree Classification Report:\n",
      "              precision    recall  f1-score   support\n",
      "\n",
      "           0       1.00      1.00      1.00     98794\n",
      "           1       0.74      0.77      0.75      1206\n",
      "\n",
      "    accuracy                           0.99    100000\n",
      "   macro avg       0.87      0.88      0.88    100000\n",
      "weighted avg       0.99      0.99      0.99    100000\n",
      "\n"
     ]
    },
    {
     "data": {
      "image/png": "[encoded data removed]",
      "text/plain": [
       "<Figure size 640x480 with 2 Axes>"
      ]
     },
     "metadata": {},
     "output_type": "display_data"
    }
   ],
   "source": [
    "from sklearn.tree import DecisionTreeClassifier\n",
    "\n",
    "# Initializing the Decision Tree model\n",
    "decision_tree_model = DecisionTreeClassifier(random_state=42)\n",
    "\n",
    "# Training the Decision Tree model on the resampled (over-sampled) training data\n",
    "decision_tree_model.fit(X_train_resampled, y_train_resampled)\n",
    "\n",
    "# Predicting on the original, not resampled test set\n",
    "decision_tree_predictions = decision_tree_model.predict(X_test)\n",
    "\n",
    "# Evaluating the Decision Tree model\n",
    "print(\"Decision Tree Classification Report:\")\n",
    "print(classification_report(y_test, decision_tree_predictions))\n",
    "\n",
    "cm_dt = confusion_matrix(y_test, decision_tree_predictions)\n",
    "\n",
    "# Plotting the confusion matrix\n",
    "sns.heatmap(cm_dt, annot=True, fmt='d', xticklabels=['Non-Fraud', 'Fraud'], yticklabels=['Non-Fraud', 'Fraud'])\n",
    "plt.ylabel('Actual')\n",
    "plt.xlabel('Predicted')\n",
    "plt.title('Confusion Matrix')\n",
    "plt.show()"
   ]
  },
  {
   "cell_type": "markdown",
   "id": "9aad4e3c",
   "metadata": {},
   "source": [
    "In terms of identifying fraud, the Decision Tree model is better than the Logistic Regression model, with a higher precision of 74% and a recall of 77%. As a result, fewer legitimate transactions are incorrectly identified as fraudulent. Its f1-score for fraud detection is 0.75, which is a significant improvement over the Logistic Regression's 0.52, indicating a better balance in properly identifying fraud while minimizing errors.\n",
    "\n",
    "Confusion matrix:\n",
    "\n",
    "(a) `98,460 True Negatives` - Successfully identified non-fraudulent transactions.\n",
    "\n",
    "(b) `334 False Positives` - Fewer mistakes in mislabeling non-fraud as fraud than Logistic Regression.\n",
    "\n",
    "(c) `274 False Negatives` - Slightly more missed frauds than Logistic Regression.\n",
    "\n",
    "(d) `932 True Positives` - Slightly lower than Logistic Regression, but still effectively identifies a good number of frauds.\n",
    "\n",
    "In conclusion, the Decision Tree model performs better in detecting fraudulent transactions compared to the Logistic Regression model. But, there is still room for improvement. "
   ]
  },
  {
   "cell_type": "markdown",
   "id": "d76fa74b",
   "metadata": {},
   "source": [
    "## Model 3: Random Forest"
   ]
  },
  {
   "cell_type": "code",
   "execution_count": 13,
   "id": "248c2721",
   "metadata": {},
   "outputs": [
    {
     "name": "stdout",
     "output_type": "stream",
     "text": [
      "Random Forest Classification Report:\n",
      "              precision    recall  f1-score   support\n",
      "\n",
      "           0       1.00      1.00      1.00     98794\n",
      "           1       0.85      0.78      0.82      1206\n",
      "\n",
      "    accuracy                           1.00    100000\n",
      "   macro avg       0.93      0.89      0.91    100000\n",
      "weighted avg       1.00      1.00      1.00    100000\n",
      "\n"
     ]
    },
    {
     "data": {
      "image/png": "[encoded data removed]",
      "text/plain": [
       "<Figure size 640x480 with 2 Axes>"
      ]
     },
     "metadata": {},
     "output_type": "display_data"
    }
   ],
   "source": [
    "from sklearn.ensemble import RandomForestClassifier\n",
    "\n",
    "# Initializing the Random Forest model\n",
    "random_forest_model = RandomForestClassifier(random_state=42)\n",
    "\n",
    "# Training the Random Forest model on the resampled (over-sampled) training data\n",
    "random_forest_model.fit(X_train_resampled, y_train_resampled)\n",
    "\n",
    "# Predicting on the original, not resampled test set\n",
    "random_forest_predictions = random_forest_model.predict(X_test)\n",
    "\n",
    "# Evaluating the Random Forest model\n",
    "print(\"Random Forest Classification Report:\")\n",
    "print(classification_report(y_test, random_forest_predictions))\n",
    "\n",
    "cm_rf = confusion_matrix(y_test, random_forest_predictions) \n",
    "\n",
    "# Plotting the confusion matrix\n",
    "sns.heatmap(cm_rf, annot=True, fmt='d', xticklabels=['Non-Fraud', 'Fraud'], yticklabels=['Non-Fraud', 'Fraud'])\n",
    "plt.ylabel('Actual')\n",
    "plt.xlabel('Predicted')\n",
    "plt.title('Confusion Matrix')\n",
    "plt.show()"
   ]
  },
  {
   "cell_type": "markdown",
   "id": "29a10411",
   "metadata": {},
   "source": [
    "The model performs better than the Decision Tree model, so using it on the validation set to test its performance."
   ]
  },
  {
   "cell_type": "markdown",
   "id": "320933ed",
   "metadata": {},
   "source": [
    "## Testing Random Forest Model on Validation Set"
   ]
  },
  {
   "cell_type": "code",
   "execution_count": 14,
   "id": "b9064f83",
   "metadata": {},
   "outputs": [
    {
     "name": "stdout",
     "output_type": "stream",
     "text": [
      "Random Forest Validation Set Classification Report:\n",
      "              precision    recall  f1-score   support\n",
      "\n",
      "           0       1.00      1.00      1.00     93515\n",
      "           1       0.85      0.79      0.82      1128\n",
      "\n",
      "    accuracy                           1.00     94643\n",
      "   macro avg       0.92      0.90      0.91     94643\n",
      "weighted avg       1.00      1.00      1.00     94643\n",
      "\n"
     ]
    },
    {
     "data": {
      "image/png": "[encoded data removed]",
      "text/plain": [
       "<Figure size 640x480 with 2 Axes>"
      ]
     },
     "metadata": {},
     "output_type": "display_data"
    }
   ],
   "source": [
    "random_forest_validation_predictions = random_forest_model.predict(X_validation)\n",
    "\n",
    "print(\"Random Forest Validation Set Classification Report:\")\n",
    "print(classification_report(y_validation, random_forest_validation_predictions))\n",
    "\n",
    "cm2_rf = confusion_matrix(y_validation, random_forest_validation_predictions)\n",
    "\n",
    "sns.heatmap(cm2_rf, annot=True, fmt='d', xticklabels=['Non-Fraud', 'Fraud'], yticklabels=['Non-Fraud', 'Fraud'])\n",
    "plt.ylabel('Actual')\n",
    "plt.xlabel('Predicted')\n",
    "plt.title('Confusion Matrix')\n",
    "plt.show()"
   ]
  },
  {
   "cell_type": "markdown",
   "id": "7f77abf7",
   "metadata": {},
   "source": [
    "The Random Forest model is quite good at detecting fraudulent transactions, consistently showing good results on both test and validation sets. This means it works well with both known and unknown data. With a high f1-score of 0.82, precision of 85%, and recall of 79%, it outperforms the Logistic Regression and Decision Tree models in identifying fraud. This demonstrates that it correctly identifies the majority of fraud cases while not incorrectly labeling normal transactions as fraudulent. This precision is critical in fraud detection to avoid false alarms. The model's constant performance across test and validation data sets indicates its dependability and efficacy. It satisfies the needs of the bank and its customers by effectively detecting new and unseen fraudulent cases without setting off any false alarms as shown in the results given by the confusion matrix:\n",
    "\n",
    "Confusion matrix:\n",
    "\n",
    "(a) 93,351 True Negatives - Successfully identified non-fraudulent transactions.\n",
    "\n",
    "(b) 164 False Positives - Non-fraudulent transactions incorrectly identified as fraudulent.\n",
    "\n",
    "(c) 233 False Negatives - fraudulent transactions incorrectly marked as non-fraudulent.\n",
    "\n",
    "(d) 895 True Positives - Successfully identified fraudulent transactions."
   ]
  },
  {
   "cell_type": "markdown",
   "id": "1da87d98",
   "metadata": {},
   "source": [
    "### Checking for Overfitting:"
   ]
  },
  {
   "cell_type": "code",
   "execution_count": 15,
   "id": "90557759",
   "metadata": {},
   "outputs": [
    {
     "name": "stdout",
     "output_type": "stream",
     "text": [
      "Random Forest Accuracy on Training Set:  0.9999975\n",
      "Random Forest Accuracy on Test Set:  0.99579\n",
      "Random Forest Accuracy on Validation Set:  0.9958052893505066\n"
     ]
    }
   ],
   "source": [
    "rf_train_pred = random_forest_model.predict(X_train)\n",
    "rf_test_pred = random_forest_model.predict(X_test)\n",
    "rf_validation_pred = random_forest_model.predict(X_validation)\n",
    "\n",
    "print(\"Random Forest Accuracy on Training Set: \", accuracy_score(y_train, rf_train_pred))\n",
    "print(\"Random Forest Accuracy on Test Set: \", accuracy_score(y_test, rf_test_pred))\n",
    "print(\"Random Forest Accuracy on Validation Set: \", accuracy_score(y_validation, rf_validation_pred))"
   ]
  },
  {
   "cell_type": "markdown",
   "id": "f222f1b6",
   "metadata": {},
   "source": [
    "The Random Forest model has nearly perfect accuracy on the training set, but slightly lower accuracy on the test and validation sets. This disparity shows a minor degree of overfitting. Hence, we need to use another model to avoid this."
   ]
  },
  {
   "cell_type": "markdown",
   "id": "5ed7a9e5",
   "metadata": {},
   "source": [
    "## Model 4: XGBoost"
   ]
  },
  {
   "cell_type": "code",
   "execution_count": 16,
   "id": "49d161b4",
   "metadata": {},
   "outputs": [
    {
     "name": "stdout",
     "output_type": "stream",
     "text": [
      "XGBoost Classification Report:\n",
      "              precision    recall  f1-score   support\n",
      "\n",
      "           0       1.00      1.00      1.00     98794\n",
      "           1       0.78      0.84      0.81      1206\n",
      "\n",
      "    accuracy                           1.00    100000\n",
      "   macro avg       0.89      0.92      0.91    100000\n",
      "weighted avg       1.00      1.00      1.00    100000\n",
      "\n"
     ]
    },
    {
     "data": {
      "image/png": "[encoded data removed]",
      "text/plain": [
       "<Figure size 640x480 with 2 Axes>"
      ]
     },
     "metadata": {},
     "output_type": "display_data"
    }
   ],
   "source": [
    "from xgboost import XGBClassifier\n",
    "\n",
    "# Initializing the XGBoost model\n",
    "xgboost_model = XGBClassifier(random_state=42, use_label_encoder=False, eval_metric='logloss')\n",
    "\n",
    "# Training the XGBoost model on the resampled (over-sampled) training data\n",
    "xgboost_model.fit(X_train_resampled, y_train_resampled)\n",
    "\n",
    "# Predicting on the original, not resampled test set\n",
    "xgboost_predictions = xgboost_model.predict(X_test)\n",
    "\n",
    "# Evaluating the XGBoost model\n",
    "print(\"XGBoost Classification Report:\")\n",
    "print(classification_report(y_test, xgboost_predictions))\n",
    "\n",
    "cm_xgb = confusion_matrix(y_test, xgboost_predictions)\n",
    "\n",
    "sns.heatmap(cm_xgb, annot=True, fmt='d', xticklabels=['Non-Fraud', 'Fraud'], yticklabels=['Non-Fraud', 'Fraud'])\n",
    "plt.ylabel('Actual')\n",
    "plt.xlabel('Predicted')\n",
    "plt.title('Confusion Matrix')\n",
    "plt.show()"
   ]
  },
  {
   "cell_type": "markdown",
   "id": "e3e20fc0",
   "metadata": {},
   "source": [
    "This model performs slightly better in terms of detecting actual fradulant transactions and so checking it's performance on the validation set."
   ]
  },
  {
   "cell_type": "markdown",
   "id": "1b4a4f44",
   "metadata": {},
   "source": [
    "## Testing XGBoost Model on Validation Set"
   ]
  },
  {
   "cell_type": "code",
   "execution_count": 17,
   "id": "199caf50",
   "metadata": {},
   "outputs": [
    {
     "name": "stdout",
     "output_type": "stream",
     "text": [
      "XGBoost Validation Set Classification Report:\n",
      "              precision    recall  f1-score   support\n",
      "\n",
      "           0       1.00      1.00      1.00     93515\n",
      "           1       0.80      0.86      0.83      1128\n",
      "\n",
      "    accuracy                           1.00     94643\n",
      "   macro avg       0.90      0.93      0.91     94643\n",
      "weighted avg       1.00      1.00      1.00     94643\n",
      "\n"
     ]
    },
    {
     "data": {
      "image/png": "[encoded data removed]",
      "text/plain": [
       "<Figure size 640x480 with 2 Axes>"
      ]
     },
     "metadata": {},
     "output_type": "display_data"
    }
   ],
   "source": [
    "# Predicting with the XGBoost model on the validation set\n",
    "xgboost_validation_predictions = xgboost_model.predict(X_validation)\n",
    "\n",
    "# Evaluating the XGBoost model on the validation set\n",
    "print(\"XGBoost Validation Set Classification Report:\")\n",
    "print(classification_report(y_validation, xgboost_validation_predictions))\n",
    "\n",
    "cm2_xgb = confusion_matrix(y_validation, xgboost_validation_predictions)\n",
    "                           \n",
    "sns.heatmap(cm2_xgb, annot=True, fmt='d', xticklabels=['Non-Fraud', 'Fraud'], yticklabels=['Non-Fraud', 'Fraud'])\n",
    "plt.ylabel('Actual')\n",
    "plt.xlabel('Predicted')\n",
    "plt.title('Confusion Matrix')\n",
    "plt.show()"
   ]
  },
  {
   "cell_type": "markdown",
   "id": "3a3090b1",
   "metadata": {},
   "source": [
    "For the given dataset, the XGBoost model appears as the best approach for detecting fraudulent transactions. This model not only has a high level of accuracy, but it also excels at detecting fraudulent transactions (high recall) while keeping a respectable level of precision. On the validation set, the XGBoost model achieved an impressive recall of 86% for fraudulent transactions, indicating a good ability to detect a significant portion of fraud cases. Furthermore, its balanced f1-score of 0.83 for the fraudulent class demonstrates its ability to manage the balance between detecting actual fraud payments and minimizing false positives. Given the client's need for a solution that performs well for both genuine and fraudulent transactions, the XGBoost model stands out because it offers an effective and accurate approach to fraud detection, ensuring a high detection rate of fraudulent activities with a fair error margin. This is consistent with the client's goals of obtaining high accuracy in predicting new, unseen payments while retaining great performance across both transaction types. This analysis can be highlighted by the results given by the confusion matrix:\n",
    "\n",
    "Confusion Matrix:\n",
    "\n",
    "(a) `93,271 True Negatives` - Successfully identified non-fraudulent transactions.\n",
    "\n",
    "(b) `244 False Positives` - Non-fraudulent transactions incorrectly identified as fraudulent.\n",
    "\n",
    "(c) `159 False Negatives` - fraudulent transactions incorrectly marked as non-fraudulent.\n",
    "\n",
    "(d) `969 True Positives` - Successfully identified fraudulent transactions."
   ]
  },
  {
   "cell_type": "markdown",
   "id": "c452a4e6",
   "metadata": {},
   "source": [
    "### Checking for Overfitting:"
   ]
  },
  {
   "cell_type": "code",
   "execution_count": 18,
   "id": "ce0b429e",
   "metadata": {},
   "outputs": [
    {
     "name": "stdout",
     "output_type": "stream",
     "text": [
      "XGBoost Accuracy on Training Set:  0.9963225\n",
      "XGBoost Accuracy on Test Set:  0.9953\n",
      "XGBoost Accuracy on Validation Set:  0.9957418932197838\n"
     ]
    }
   ],
   "source": [
    "xgb_train_pred = xgboost_model.predict(X_train)\n",
    "xgb_test_pred = xgboost_model.predict(X_test)\n",
    "xgb_validation_pred = xgboost_model.predict(X_validation)\n",
    "\n",
    "print(\"XGBoost Accuracy on Training Set: \", accuracy_score(y_train, xgb_train_pred))\n",
    "print(\"XGBoost Accuracy on Test Set: \", accuracy_score(y_test, xgb_test_pred))\n",
    "print(\"XGBoost Accuracy on Validation Set: \", accuracy_score(y_validation, xgb_validation_pred))"
   ]
  },
  {
   "cell_type": "markdown",
   "id": "1fcaf8a9",
   "metadata": {},
   "source": [
    "As it can be seen from the results above, there is almost no overfitting which makes the XGBoost model a perfect fit to fulfill the requirements of the bank and it's clients."
   ]
  }
 ],
 "metadata": {
  "kernelspec": {
   "display_name": "Python 3 (ipykernel)",
   "language": "python",
   "name": "python3"
  },
  "language_info": {
   "codemirror_mode": {
    "name": "ipython",
    "version": 3
   },
   "file_extension": ".py",
   "mimetype": "text/x-python",
   "name": "python",
   "nbconvert_exporter": "python",
   "pygments_lexer": "ipython3",
   "version": "3.11.4"
  }
 },
 "nbformat": 4,
 "nbformat_minor": 5
}
